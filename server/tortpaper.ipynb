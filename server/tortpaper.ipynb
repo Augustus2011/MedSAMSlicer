{
 "cells": [
  {
   "cell_type": "code",
   "execution_count": 34,
   "metadata": {},
   "outputs": [],
   "source": [
    "import numpy as np\n",
    "import torch\n",
    "import skimage\n",
    "from skimage import transform\n",
    "\n"
   ]
  },
  {
   "cell_type": "code",
   "execution_count": 33,
   "metadata": {},
   "outputs": [
    {
     "name": "stdout",
     "output_type": "stream",
     "text": [
      "Collecting scikit-image\n",
      "  Using cached scikit_image-0.23.2-cp312-cp312-macosx_12_0_arm64.whl.metadata (14 kB)\n",
      "Requirement already satisfied: numpy>=1.23 in /Users/kunkerdthaisong/intern_cariva/venv/lib/python3.12/site-packages (from scikit-image) (1.26.4)\n",
      "Collecting scipy>=1.9 (from scikit-image)\n",
      "  Using cached scipy-1.13.1-cp312-cp312-macosx_12_0_arm64.whl.metadata (60 kB)\n",
      "Requirement already satisfied: networkx>=2.8 in /Users/kunkerdthaisong/intern_cariva/venv/lib/python3.12/site-packages (from scikit-image) (3.3)\n",
      "Requirement already satisfied: pillow>=9.1 in /Users/kunkerdthaisong/intern_cariva/venv/lib/python3.12/site-packages (from scikit-image) (10.3.0)\n",
      "Collecting imageio>=2.33 (from scikit-image)\n",
      "  Using cached imageio-2.34.1-py3-none-any.whl.metadata (4.9 kB)\n",
      "Collecting tifffile>=2022.8.12 (from scikit-image)\n",
      "  Using cached tifffile-2024.5.22-py3-none-any.whl.metadata (30 kB)\n",
      "Requirement already satisfied: packaging>=21 in /Users/kunkerdthaisong/intern_cariva/venv/lib/python3.12/site-packages (from scikit-image) (24.0)\n",
      "Collecting lazy-loader>=0.4 (from scikit-image)\n",
      "  Using cached lazy_loader-0.4-py3-none-any.whl.metadata (7.6 kB)\n",
      "Using cached scikit_image-0.23.2-cp312-cp312-macosx_12_0_arm64.whl (13.3 MB)\n",
      "Using cached imageio-2.34.1-py3-none-any.whl (313 kB)\n",
      "Using cached lazy_loader-0.4-py3-none-any.whl (12 kB)\n",
      "Using cached scipy-1.13.1-cp312-cp312-macosx_12_0_arm64.whl (30.4 MB)\n",
      "Using cached tifffile-2024.5.22-py3-none-any.whl (225 kB)\n",
      "Installing collected packages: tifffile, scipy, lazy-loader, imageio, scikit-image\n",
      "Successfully installed imageio-2.34.1 lazy-loader-0.4 scikit-image-0.23.2 scipy-1.13.1 tifffile-2024.5.22\n"
     ]
    }
   ],
   "source": [
    "#!pip install scikit-image"
   ]
  },
  {
   "cell_type": "code",
   "execution_count": 35,
   "metadata": {},
   "outputs": [
    {
     "data": {
      "text/plain": [
       "(torch.Size([1, 3, 255, 255]), torch.Size([255, 255, 3]))"
      ]
     },
     "execution_count": 35,
     "metadata": {},
     "output_type": "execute_result"
    }
   ],
   "source": [
    "x=np.random.rand(3,255,255)\n",
    "x_t=torch.rand(255,255,3)\n",
    "\n",
    "x_t.permute(2,0,1).unsqueeze(0).shape,x_t.shape"
   ]
  },
  {
   "cell_type": "code",
   "execution_count": 80,
   "metadata": {},
   "outputs": [],
   "source": [
    "mask=torch.rand(1,256, 256).squeeze().numpy() #(256 256)\n",
    "mask=(mask>0.5).astype(np.int8) #256,256\n",
    "mask_t=transform.resize(mask, (256, 256), order=0, preserve_range=True, anti_aliasing=False).astype(np.uint8)\n",
    "mask_list=mask.tolist()"
   ]
  },
  {
   "cell_type": "code",
   "execution_count": 66,
   "metadata": {},
   "outputs": [],
   "source": [
    "#get_bbox1024\n",
    "\n",
    "\n",
    "\n"
   ]
  },
  {
   "cell_type": "code",
   "execution_count": 81,
   "metadata": {},
   "outputs": [],
   "source": [
    "mask_1024,bbox_shift=mask_t,3\n",
    "y_indices,x_indices=np.where(mask_1024>0) #index at\n",
    "\n",
    "\n",
    "x_min,x_max=np.min(x_indices),np.max(x_indices) #value\n",
    "y_min,y_max=np.min(y_indices),np.max(y_indices)\n",
    "\n",
    "\n",
    "H,W=mask_1024.shape\n",
    "\n",
    "\n",
    "x_min = max(0, x_min - bbox_shift)\n",
    "x_max = min(W, x_max + bbox_shift)\n",
    "y_min = max(0, y_min - bbox_shift)\n",
    "y_max = min(H, y_max + bbox_shift)\n",
    "bboxes1024 = np.array([x_min, y_min, x_max, y_max])"
   ]
  },
  {
   "cell_type": "code",
   "execution_count": 82,
   "metadata": {},
   "outputs": [
    {
     "data": {
      "text/plain": [
       "array([  0,   0, 256, 256])"
      ]
     },
     "execution_count": 82,
     "metadata": {},
     "output_type": "execute_result"
    }
   ],
   "source": [
    "bboxes1024"
   ]
  },
  {
   "cell_type": "code",
   "execution_count": 85,
   "metadata": {},
   "outputs": [],
   "source": [
    "res={}\n",
    "bbox_1024_prev=[]\n",
    "\n",
    "for i in range(3):\n",
    "    res[i],bbox_1024_prev=mask_list,[bboxes1024]"
   ]
  },
  {
   "cell_type": "code",
   "execution_count": 84,
   "metadata": {},
   "outputs": [
    {
     "data": {
      "text/plain": [
       "{0: 0, 1: 1, 2: 2}"
      ]
     },
     "execution_count": 84,
     "metadata": {},
     "output_type": "execute_result"
    }
   ],
   "source": [
    "res"
   ]
  },
  {
   "cell_type": "code",
   "execution_count": 87,
   "metadata": {},
   "outputs": [],
   "source": [
    "import stl\n",
    "from stl import mesh\n",
    "from mpl_toolkits.mplot3d import Axes3D, art3d\n",
    "from matplotlib import pyplot as plt"
   ]
  },
  {
   "cell_type": "code",
   "execution_count": null,
   "metadata": {},
   "outputs": [],
   "source": [
    "combined = mesh.Mesh(np.concatenate([m for m in res]))\n",
    "combined.save(save_path, mode=stl.Mode.ASCII)"
   ]
  }
 ],
 "metadata": {
  "kernelspec": {
   "display_name": "venv",
   "language": "python",
   "name": "python3"
  },
  "language_info": {
   "codemirror_mode": {
    "name": "ipython",
    "version": 3
   },
   "file_extension": ".py",
   "mimetype": "text/x-python",
   "name": "python",
   "nbconvert_exporter": "python",
   "pygments_lexer": "ipython3",
   "version": "3.12.2"
  }
 },
 "nbformat": 4,
 "nbformat_minor": 2
}
